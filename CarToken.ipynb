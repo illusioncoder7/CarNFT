{
 "cells": [
  {
   "cell_type": "code",
   "execution_count": 1,
   "metadata": {},
   "outputs": [],
   "source": [
    "from iconsdk.icon_service import IconService\n",
    "from iconsdk.providers.http_provider import HTTPProvider\n",
    "from iconsdk.builder.transaction_builder import CallTransactionBuilder, TransactionBuilder,DeployTransactionBuilder\n",
    "from iconsdk.builder.call_builder import CallBuilder\n",
    "from iconsdk.signed_transaction import SignedTransaction\n",
    "from iconsdk.wallet.wallet import KeyWallet\n",
    "from iconsdk.utils.convert_type import convert_hex_str_to_int\n",
    "import requests\n",
    "import json\n",
    "import pickle\n",
    "import csv\n",
    "import os\n",
    "\n",
    "from iconsdk.libs.in_memory_zip import gen_deploy_data_content"
   ]
  },
  {
   "cell_type": "code",
   "execution_count": 2,
   "metadata": {},
   "outputs": [],
   "source": [
    "icon_service = IconService(HTTPProvider(\"https://bicon.net.solidwallet.io/\", 3))\n",
    "wallet = KeyWallet.load(\"./keystores/daolette.json\", \"ICON_daolette2357\")"
   ]
  },
  {
   "cell_type": "code",
   "execution_count": 5,
   "metadata": {},
   "outputs": [
    {
     "name": "stdout",
     "output_type": "stream",
     "text": [
      "Deploy tx hash 0x605b7f6b220f9aa4d199917782a8b6617af0063792cc3be0e809a8df13c767f6\n"
     ]
    }
   ],
   "source": [
    "#Deploying the contract for the first time\n",
    "GOVERNANCE_ADDRESS = \"cx0000000000000000000000000000000000000000\"\n",
    "DEPLOY_PARAMS={\"initialSupply\":\"0x1E5\",\"decimals\":\"0x2\"}\n",
    "deploy_transaction = DeployTransactionBuilder()\\\n",
    "    .from_(wallet.get_address())\\\n",
    "    .to(GOVERNANCE_ADDRESS)\\\n",
    "    .nid(3)\\\n",
    "    .nonce(100)\\\n",
    "    .content_type(\"application/zip\")\\\n",
    "    .content(gen_deploy_data_content('CarNFT.zip'))\\\n",
    "    .params(DEPLOY_PARAMS)\\\n",
    "    .build()\n",
    "\n",
    "estimate_step = icon_service.estimate_step(deploy_transaction)\n",
    "step_limit = estimate_step + 100000\n",
    "signed_transaction = SignedTransaction(deploy_transaction, wallet, step_limit)\n",
    "\n",
    "tx_hash = icon_service.send_transaction(signed_transaction)\n",
    "print(\"Deploy tx hash\",tx_hash)"
   ]
  },
  {
   "cell_type": "code",
   "execution_count": 10,
   "metadata": {},
   "outputs": [
    {
     "name": "stdout",
     "output_type": "stream",
     "text": [
      "0xf3331b50aaae9c48c003de432cae028ecc5443878704209a603bd4988dd95611\n"
     ]
    }
   ],
   "source": [
    "#Updating the contract\n",
    "TOKEN_ADDRESS=\"cx48612bc71feea3143aca0ace2602e998d1f6792f\"\n",
    "transaction = DeployTransactionBuilder() \\\n",
    "            .from_(wallet.get_address()) \\\n",
    "            .to(TOKEN_ADDRESS) \\\n",
    "            .nid(3) \\\n",
    "            .nonce(100) \\\n",
    "            .content_type(\"application/zip\") \\\n",
    "            .content(gen_deploy_data_content(\"car_token.zip\")) \\\n",
    "            .build()\n",
    "\n",
    "estimate_step = icon_service.estimate_step(transaction)\n",
    "step_limit = estimate_step + 100000\n",
    "signed_transaction = SignedTransaction(transaction, wallet,step_limit)\n",
    "\n",
    "tx_hash = icon_service.send_transaction(signed_transaction)\n",
    "print(tx_hash)"
   ]
  },
  {
   "cell_type": "code",
   "execution_count": 13,
   "metadata": {},
   "outputs": [],
   "source": [
    "\n",
    "car_params={\"_company_name\": \"Tesla\", \"_model\": \"S\", \"_engine_power\": \"1800\", \"_price\": \"$50000\",\"_fuel_type\":\"electric\"}\n",
    "transfer_params={\"_to\": \"hxadc0a531e70b1742c7b0235e1504b7864e1fe6d5\", \"_carId\": \"1\"} \n",
    "approve_params={\"_to\": \"hxadc0a531e70b1742c7b0235e1504b7864e1fe6d5\", \"_carId\": \"1\"}"
   ]
  },
  {
   "cell_type": "code",
   "execution_count": 14,
   "metadata": {},
   "outputs": [
    {
     "name": "stdout",
     "output_type": "stream",
     "text": [
      "0x27b3f77f60dd80104af850a5bbb86eeb3f5d743f7e2fb58188402e2b8ad36610\n"
     ]
    }
   ],
   "source": [
    "get_car = CallTransactionBuilder()\\\n",
    "    .from_(wallet.get_address())\\\n",
    "    .to(TOKEN_ADDRESS)\\\n",
    "    .nid(3)\\\n",
    "    .nonce(100)\\\n",
    "    .method(\"create_car\")\\\n",
    "    .params(car_params)\\\n",
    "    .build()\n",
    "\n",
    "estimate_step = icon_service.estimate_step(get_car)\n",
    "step_limit = estimate_step + 100000\n",
    "signed_transaction = SignedTransaction(get_car, wallet, step_limit)\n",
    "\n",
    "tx_hash = icon_service.send_transaction(signed_transaction)\n",
    "print(tx_hash)"
   ]
  },
  {
   "cell_type": "code",
   "execution_count": null,
   "metadata": {},
   "outputs": [],
   "source": []
  }
 ],
 "metadata": {
  "kernelspec": {
   "display_name": "Python 3",
   "language": "python",
   "name": "python3"
  },
  "language_info": {
   "codemirror_mode": {
    "name": "ipython",
    "version": 3
   },
   "file_extension": ".py",
   "mimetype": "text/x-python",
   "name": "python",
   "nbconvert_exporter": "python",
   "pygments_lexer": "ipython3",
   "version": "3.8.2"
  }
 },
 "nbformat": 4,
 "nbformat_minor": 4
}
